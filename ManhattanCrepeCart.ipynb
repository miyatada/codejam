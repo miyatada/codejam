{
  "nbformat": 4,
  "nbformat_minor": 0,
  "metadata": {
    "colab": {
      "name": "ManhattanCrepeCart.ipynb",
      "version": "0.3.2",
      "provenance": [],
      "collapsed_sections": [],
      "include_colab_link": true
    },
    "kernelspec": {
      "name": "python3",
      "display_name": "Python 3"
    }
  },
  "cells": [
    {
      "cell_type": "markdown",
      "metadata": {
        "id": "view-in-github",
        "colab_type": "text"
      },
      "source": [
        "<a href=\"https://colab.research.google.com/github/miyatada/codejam/blob/master/ManhattanCrepeCart.ipynb\" target=\"_parent\"><img src=\"https://colab.research.google.com/assets/colab-badge.svg\" alt=\"Open In Colab\"/></a>"
      ]
    },
    {
      "metadata": {
        "id": "XNrNOKNe_FGo",
        "colab_type": "text"
      },
      "cell_type": "markdown",
      "source": [
        "# **Manhattan Crepe Cart**\n",
        "\n",
        "- 問題はこちら\n",
        "https://codingcompetitions.withgoogle.com/codejam/round/0000000000051706/"
      ]
    },
    {
      "metadata": {
        "id": "chAPoU-J5NrI",
        "colab_type": "text"
      },
      "cell_type": "markdown",
      "source": [
        "## Sample testcase\n",
        "### Input  \t\n",
        "3<br>\n",
        "1 10<br>\n",
        "5 5 N<br>\n",
        "4 10<br>\n",
        "2 4 N<br>\n",
        "2 6 S<br>\n",
        "1 5 E<br>\n",
        "3 5 W<br>\n",
        "8 10<br>\n",
        "0 2 S<br>\n",
        "0 3 N<br>\n",
        "0 3 N<br>\n",
        "0 4 N<br>\n",
        "0 5 S<br>\n",
        "0 5 S<br>\n",
        "0 8 S<br>\n",
        "1 5 W<br>\n",
        "\n",
        "### Output \n",
        " Case #1: 0 6<br>\n",
        " Case #2: 2 5<br>\n",
        " Case #3: 0 4\n",
        "\n",
        "  \n",
        "\n"
      ]
    },
    {
      "metadata": {
        "id": "4eOZb8te_qOL",
        "colab_type": "text"
      },
      "cell_type": "markdown",
      "source": [
        "## Import"
      ]
    },
    {
      "metadata": {
        "id": "QvQOTOFs33Qi",
        "colab_type": "code",
        "colab": {}
      },
      "cell_type": "code",
      "source": [
        "from statistics import mean,median"
      ],
      "execution_count": 0,
      "outputs": []
    },
    {
      "metadata": {
        "id": "d9p_oDnS7g3Q",
        "colab_type": "text"
      },
      "cell_type": "markdown",
      "source": [
        "## Set TestCase"
      ]
    },
    {
      "metadata": {
        "id": "Uf4SPFT27bCa",
        "colab_type": "code",
        "colab": {}
      },
      "cell_type": "code",
      "source": [
        "i = 1\n",
        "P = 8\n",
        "Q = 10\n",
        "Corr = [\n",
        "    '0 2 S',\n",
        "    '0 3 N',\n",
        "    '0 3 N',\n",
        "    '0 4 N',\n",
        "    '0 5 S',\n",
        "    '0 5 S',\n",
        "    '0 8 S',\n",
        "    '1 5 W'\n",
        "]"
      ],
      "execution_count": 0,
      "outputs": []
    },
    {
      "metadata": {
        "id": "3Qq7Peb94flW",
        "colab_type": "code",
        "colab": {
          "base_uri": "https://localhost:8080/",
          "height": 34
        },
        "outputId": "50990228-0a5e-4bf7-ed65-dd095cab9163"
      },
      "cell_type": "code",
      "source": [
        "if P == None or Q == None: \n",
        "  n = input()\n",
        "  P, Q = n.split(' ')\n",
        "  P = int(P)\n",
        "  Q = int(Q)\n",
        "\n",
        "print('P: ', P, 'Q: ', Q)"
      ],
      "execution_count": 22,
      "outputs": [
        {
          "output_type": "stream",
          "text": [
            "P:  8 Q:  10\n"
          ],
          "name": "stdout"
        }
      ]
    },
    {
      "metadata": {
        "id": "90g8NjND6Lnv",
        "colab_type": "code",
        "colab": {
          "base_uri": "https://localhost:8080/",
          "height": 153
        },
        "outputId": "e5ce0bc1-8eca-4c16-f722-628ffbcf02eb"
      },
      "cell_type": "code",
      "source": [
        "wordList = []\n",
        "X = []\n",
        "Y = []\n",
        "D = []\n",
        "\n",
        "if Corr == None:\n",
        "  for k in range(0, P):\n",
        "    n = input()\n",
        "    x,y,d = n.split(' ')\n",
        "    X.append(int(x))\n",
        "    Y.append(int(y))\n",
        "    D.append(d)\n",
        "else:\n",
        "  range_p = range(0,P)\n",
        "  for k, c in zip(range_p, Corr):\n",
        "    n = c\n",
        "    x,y,d = n.split(' ')\n",
        "    X.append(int(x))\n",
        "    Y.append(int(y))\n",
        "    D.append(d)\n",
        "\n",
        "for x,y,d in zip(X,Y,D):\n",
        "  print(x,y,d)\n"
      ],
      "execution_count": 23,
      "outputs": [
        {
          "output_type": "stream",
          "text": [
            "0 2 S\n",
            "0 3 N\n",
            "0 3 N\n",
            "0 4 N\n",
            "0 5 S\n",
            "0 5 S\n",
            "0 8 S\n",
            "1 5 W\n"
          ],
          "name": "stdout"
        }
      ]
    },
    {
      "metadata": {
        "id": "ugTH4eFw-g6i",
        "colab_type": "text"
      },
      "cell_type": "markdown",
      "source": [
        "## move people"
      ]
    },
    {
      "metadata": {
        "id": "hGZWRdl_9ulI",
        "colab_type": "code",
        "colab": {
          "base_uri": "https://localhost:8080/",
          "height": 153
        },
        "outputId": "4cc67ce1-519d-4b9f-aa2c-3b8a0d718005"
      },
      "cell_type": "code",
      "source": [
        "\n",
        "for k,d in enumerate(D):\n",
        "    print('k:',k,'d',d)\n",
        "    if d == 'N':\n",
        "        Y[k] += 1\n",
        "    elif d == 'S':\n",
        "        Y[k] -= 1\n",
        "    elif d == 'W':\n",
        "        X[k] -= 1\n",
        "    elif d == 'E':\n",
        "        X[k] += 1"
      ],
      "execution_count": 24,
      "outputs": [
        {
          "output_type": "stream",
          "text": [
            "k: 0 d S\n",
            "k: 1 d N\n",
            "k: 2 d N\n",
            "k: 3 d N\n",
            "k: 4 d S\n",
            "k: 5 d S\n",
            "k: 6 d S\n",
            "k: 7 d W\n"
          ],
          "name": "stdout"
        }
      ]
    },
    {
      "metadata": {
        "id": "twXw4PjX-yfU",
        "colab_type": "text"
      },
      "cell_type": "markdown",
      "source": [
        "## Get average"
      ]
    },
    {
      "metadata": {
        "id": "J-SRTBoP-MQL",
        "colab_type": "code",
        "colab": {
          "base_uri": "https://localhost:8080/",
          "height": 34
        },
        "outputId": "0c40dc5a-a89f-4c0f-9235-6cc14b6fc2c8"
      },
      "cell_type": "code",
      "source": [
        "aveX = int(mean(X))\n",
        "aveY = int(mean(Y))\n",
        "print(aveX, aveY)"
      ],
      "execution_count": 25,
      "outputs": [
        {
          "output_type": "stream",
          "text": [
            "0 4\n"
          ],
          "name": "stdout"
        }
      ]
    },
    {
      "metadata": {
        "id": "p7w3my1--3C1",
        "colab_type": "text"
      },
      "cell_type": "markdown",
      "source": [
        "## Judge"
      ]
    },
    {
      "metadata": {
        "id": "QvIBB_DL-Pf8",
        "colab_type": "code",
        "colab": {
          "base_uri": "https://localhost:8080/",
          "height": 34
        },
        "outputId": "cdfd5ee5-2bb0-42a7-9f53-8f663e3b37ab"
      },
      "cell_type": "code",
      "source": [
        "if P == 1:\n",
        "    if D[0] == 'N' or D[0] == 'S':\n",
        "        resX = 0\n",
        "        resY = aveY\n",
        "    else:\n",
        "        resX = aveX\n",
        "        resY = 0\n",
        "else:\n",
        "    resX = aveX\n",
        "    resY = aveY\n",
        "\n",
        "print(\"Case #{}: {} {}\".format(i,resX,resY))"
      ],
      "execution_count": 26,
      "outputs": [
        {
          "output_type": "stream",
          "text": [
            "Case #0: 0 4\n"
          ],
          "name": "stdout"
        }
      ]
    },
    {
      "metadata": {
        "id": "sXFWid-q-674",
        "colab_type": "code",
        "colab": {}
      },
      "cell_type": "code",
      "source": [
        ""
      ],
      "execution_count": 0,
      "outputs": []
    }
  ]
}